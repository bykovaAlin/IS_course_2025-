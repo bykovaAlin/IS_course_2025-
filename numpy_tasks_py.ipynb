{
  "nbformat": 4,
  "nbformat_minor": 0,
  "metadata": {
    "colab": {
      "provenance": [],
      "authorship_tag": "ABX9TyN0XXtUFvk+z6cn2dFZrz5x",
      "include_colab_link": true
    },
    "kernelspec": {
      "name": "python3",
      "display_name": "Python 3"
    },
    "language_info": {
      "name": "python"
    }
  },
  "cells": [
    {
      "cell_type": "markdown",
      "metadata": {
        "id": "view-in-github",
        "colab_type": "text"
      },
      "source": [
        "<a href=\"https://colab.research.google.com/github/bykovaAlin/IS_course_2025-/blob/main/%D0%9A%D0%BE%D0%BF%D0%B8%D1%8F_%D0%B1%D0%BB%D0%BE%D0%BA%D0%BD%D0%BE%D1%82%D0%B0_%22Untitled7_ipynb%22.ipynb\" target=\"_parent\"><img src=\"https://colab.research.google.com/assets/colab-badge.svg\" alt=\"Open In Colab\"/></a>"
      ]
    },
    {
      "cell_type": "code",
      "execution_count": null,
      "metadata": {
        "colab": {
          "base_uri": "https://localhost:8080/"
        },
        "id": "mQVHYBeavX_c",
        "outputId": "85d4d06f-050c-470c-e9de-4495c81290f7"
      },
      "outputs": [
        {
          "output_type": "stream",
          "name": "stdout",
          "text": [
            "Requirement already satisfied: pytest in /usr/local/lib/python3.11/dist-packages (8.3.5)\n",
            "Requirement already satisfied: iniconfig in /usr/local/lib/python3.11/dist-packages (from pytest) (2.1.0)\n",
            "Requirement already satisfied: packaging in /usr/local/lib/python3.11/dist-packages (from pytest) (24.2)\n",
            "Requirement already satisfied: pluggy<2,>=1.5 in /usr/local/lib/python3.11/dist-packages (from pytest) (1.5.0)\n"
          ]
        }
      ],
      "source": [
        "!pip install pytest"
      ]
    },
    {
      "cell_type": "code",
      "source": [
        "!pip install numpy>=2.0"
      ],
      "metadata": {
        "id": "LeVccdNfwHh9"
      },
      "execution_count": null,
      "outputs": []
    },
    {
      "cell_type": "code",
      "source": [
        "import numpy as np"
      ],
      "metadata": {
        "id": "KeTN32ccttWl"
      },
      "execution_count": null,
      "outputs": []
    },
    {
      "cell_type": "code",
      "source": [
        "def uniform_intervals(a, b, n):\n",
        "    return np.linspace(a, b, n)\n",
        "\n",
        "def test1():\n",
        "    assert np.allclose(uniform_intervals(-1.2, 2.4, 7), np.array([-1.2, -0.6,  0. ,  0.6,  1.2,  1.8,  2.4]))\n",
        "test1()\n",
        "print(\"Тест успешно пройден!\")"
      ],
      "metadata": {
        "colab": {
          "base_uri": "https://localhost:8080/"
        },
        "id": "A5sjLKC3w3i3",
        "outputId": "5647e165-591e-41d5-8cdd-a113344f50b7"
      },
      "execution_count": null,
      "outputs": [
        {
          "output_type": "stream",
          "name": "stdout",
          "text": [
            "Тест успешно пройден!\n",
            "<function test1 at 0x7df6386fc400>\n"
          ]
        }
      ]
    },
    {
      "cell_type": "code",
      "source": [
        "def cyclic123_array(n):\n",
        "    \"\"\"2. Генерирует numpy массив длины  3𝑛 , заполненный циклически числами 1, 2, 3, 1, 2, 3, 1....\"\"\"\n",
        "    return np.tile([1, 2, 3], n)\n",
        "def test2():\n",
        "    assert np.allclose(cyclic123_array(4), np.array([1, 2, 3, 1, 2, 3, 1, 2, 3, 1, 2, 3]))\n",
        "test2()\n",
        "print(\"Тест успешно пройден!\")"
      ],
      "metadata": {
        "colab": {
          "base_uri": "https://localhost:8080/"
        },
        "id": "YH5h6psctlyD",
        "outputId": "cefc25ea-96dc-4f23-fb3e-d9d83442fb50"
      },
      "execution_count": null,
      "outputs": [
        {
          "output_type": "stream",
          "name": "stdout",
          "text": [
            "Тест успешно пройден!\n"
          ]
        }
      ]
    },
    {
      "cell_type": "code",
      "source": [
        "def first_n_odd_number(n):\n",
        "    return np.arange(1, 2*n, 2)\n",
        "def test3():\n",
        "    assert np.allclose(first_n_odd_number(3), np.array([1, 3, 5]))\n",
        "test3()\n",
        "print(\"Тест успешно пройден!\")"
      ],
      "metadata": {
        "colab": {
          "base_uri": "https://localhost:8080/"
        },
        "id": "Blyw65A9uSpI",
        "outputId": "07058130-1091-4fe0-a978-92b9d7f656f8"
      },
      "execution_count": null,
      "outputs": [
        {
          "output_type": "stream",
          "name": "stdout",
          "text": [
            "Тест успешно пройден!\n"
          ]
        }
      ]
    },
    {
      "cell_type": "code",
      "source": [
        "def zeros_array_with_border(n):\n",
        "    array = np.zeros((n, n))\n",
        "    array[0, :] = 1\n",
        "    array[-1, :] = 1\n",
        "    array[:, 0] = 1\n",
        "    array[:, -1] = 1\n",
        "\n",
        "    return array\n",
        "def test4():\n",
        "    assert np.allclose(zeros_array_with_border(4), np.array([[1., 1., 1., 1.],\n",
        "                                                             [1., 0., 0., 1.],\n",
        "                                                             [1., 0., 0., 1.],\n",
        "                                                             [1., 1., 1., 1.]]))\n",
        "test4()\n",
        "print(\"Тест успешно пройден!\")"
      ],
      "metadata": {
        "colab": {
          "base_uri": "https://localhost:8080/"
        },
        "id": "LqwxrKuV9Opx",
        "outputId": "1648cb1c-00e3-4491-9d85-ed7ddb09b9df"
      },
      "execution_count": null,
      "outputs": [
        {
          "output_type": "stream",
          "name": "stdout",
          "text": [
            "Тест успешно пройден!\n"
          ]
        }
      ]
    },
    {
      "cell_type": "code",
      "source": [
        "def chess_board(n):\n",
        "    board = np.indices((n, n)).sum(axis=0) % 2\n",
        "    return board\n",
        "def test5():\n",
        "    assert np.allclose(chess_board(3), np.array([[0., 1., 0.],\n",
        "                                                 [1., 0., 1.],\n",
        "                                                 [0., 1., 0.]]))\n",
        "test5()\n",
        "print(\"Тест пройден успешно!\")"
      ],
      "metadata": {
        "colab": {
          "base_uri": "https://localhost:8080/"
        },
        "id": "jWKoiNnC-YV4",
        "outputId": "3d2453b1-5b74-45a7-d83e-0895c4d9c69b"
      },
      "execution_count": null,
      "outputs": [
        {
          "output_type": "stream",
          "name": "stdout",
          "text": [
            "Тест пройден успешно!\n"
          ]
        }
      ]
    },
    {
      "cell_type": "code",
      "source": [
        "def matrix_with_sum_index(n):\n",
        "    row_indices = np.arange(n).reshape(-1, 1)\n",
        "    col_indices = np.arange(n)\n",
        "    return row_indices + col_indices\n",
        "def test6():\n",
        "    assert np.allclose(matrix_with_sum_index(3), np.array([[0, 1, 2],\n",
        "                                                             [1, 2, 3],\n",
        "                                                             [2, 3, 4]]))\n",
        "test6()\n",
        "print(\"Тест пройден успешно!\")"
      ],
      "metadata": {
        "colab": {
          "base_uri": "https://localhost:8080/"
        },
        "id": "nv5crxUJ-hGc",
        "outputId": "8744ce9f-3e13-4340-c7a0-dbc83adf9cd8"
      },
      "execution_count": null,
      "outputs": [
        {
          "output_type": "stream",
          "name": "stdout",
          "text": [
            "Тест пройден успешно!\n"
          ]
        }
      ]
    },
    {
      "cell_type": "code",
      "source": [
        "def cos_sin_as_two_rows(a, b, dx):\n",
        "    x = np.arange(a, b, dx)\n",
        "    cos_values = np.cos(x)\n",
        "    sin_values = np.sin(x)\n",
        "    return np.vstack((cos_values, sin_values))\n",
        "def test7():\n",
        "    assert np.allclose(cos_sin_as_two_rows(0, 1, 0.25),\n",
        "                       np.array([[1.        , 0.96891242, 0.87758256, 0.73168887],\n",
        "                                 [0.        , 0.24740396, 0.47942554, 0.68163876]]))\n",
        "test7()\n",
        "print(\"Тест пройден успешно!\")"
      ],
      "metadata": {
        "colab": {
          "base_uri": "https://localhost:8080/"
        },
        "id": "KxJxchgf-rJm",
        "outputId": "e25323ae-fef2-4dde-c345-700cf1603c2e"
      },
      "execution_count": null,
      "outputs": [
        {
          "output_type": "stream",
          "name": "stdout",
          "text": [
            "Тест пройден успешно!\n"
          ]
        }
      ]
    },
    {
      "cell_type": "code",
      "source": [
        "def compute_mean_rowssum_columnssum(A):\n",
        "    mean = np.mean(A)\n",
        "    rows_sum = np.sum(A, axis=1)\n",
        "    columns_sum = np.sum(A, axis=0)\n",
        "    return mean, rows_sum, columns_sum\n",
        "def test8():\n",
        "    A = np.array([[0.1, 0.2, 0.3, 0.4, 0.5],\n",
        "                  [0.6, 0.7, 0.8, 0.9, 1.0],\n",
        "                  [1.1, 1.2, 1.3, 1.4, 1.5]])\n",
        "\n",
        "    mean, rows_sum, columns_sum = compute_mean_rowssum_columnssum(A)\n",
        "\n",
        "    expected_mean = 0.8\n",
        "    expected_rows_sum = np.array([1.5, 4.0, 6.5])\n",
        "    expected_columns_sum = np.array([1.8, 2.1, 2.4, 2.7, 3.0])\n",
        "\n",
        "    assert np.abs(mean - expected_mean) < 1e-12\n",
        "    assert np.allclose(rows_sum, expected_rows_sum)\n",
        "    assert np.allclose(columns_sum, expected_columns_sum)\n",
        "\n",
        "test8()\n",
        "print(\"Тест пройден успешно!\")"
      ],
      "metadata": {
        "colab": {
          "base_uri": "https://localhost:8080/"
        },
        "id": "5KcEFaCq-1zk",
        "outputId": "1a23283b-7d30-4a59-d25a-8a4012a621df"
      },
      "execution_count": null,
      "outputs": [
        {
          "output_type": "stream",
          "name": "stdout",
          "text": [
            "Тест пройден успешно!\n"
          ]
        }
      ]
    },
    {
      "cell_type": "code",
      "source": [
        "def sort_array_by_column(A, j):\n",
        "    sorted_indices = np.argsort(A[:, j])\n",
        "    sorted_A = A[sorted_indices]\n",
        "    return sorted_A\n",
        "def test9():\n",
        "    np.random.seed(42)\n",
        "    A = np.random.rand(5, 5)\n",
        "    expected_result = np.array([[0.15599452, 0.05808361, 0.86617615, 0.60111501, 0.70807258],\n",
        "                                 [0.61185289, 0.13949386, 0.29214465, 0.36636184, 0.45606998],\n",
        "                                 [0.18340451, 0.30424224, 0.52475643, 0.43194502, 0.29122914],\n",
        "                                 [0.37454012, 0.95071431, 0.73199394, 0.59865848, 0.15601864],\n",
        "                                 [0.02058449, 0.96990985, 0.83244264, 0.21233911, 0.18182497]])\n",
        "\n",
        "    sorted_A = sort_array_by_column(A, 1)\n",
        "\n",
        "    assert np.allclose(sorted_A, expected_result)\n",
        "test9()\n",
        "print(\"Тест пройден успешно!\")"
      ],
      "metadata": {
        "colab": {
          "base_uri": "https://localhost:8080/"
        },
        "id": "_C5ibDp7_E_L",
        "outputId": "2bdbb535-401e-43e5-a45e-def07817a636"
      },
      "execution_count": null,
      "outputs": [
        {
          "output_type": "stream",
          "name": "stdout",
          "text": [
            "Тест пройден успешно!\n"
          ]
        }
      ]
    },
    {
      "cell_type": "code",
      "source": [
        "def compute_integral(a, b, f, dx, method):\n",
        "    x = np.arange(a, b, dx)\n",
        "    if x[-1] < b:\n",
        "        x = np.append(x, b)\n",
        "    y = f(x)\n",
        "\n",
        "    if method == 'rectangular':\n",
        "        integral = np.sum(y[:-1] * dx)\n",
        "\n",
        "    elif method == 'trapezoidal':\n",
        "        integral = np.sum((y[:-1] + y[1:]) * dx / 2)\n",
        "\n",
        "    elif method == 'simpson':\n",
        "        n = len(x) - 1\n",
        "        if n < 2 or n % 2 != 0:\n",
        "            x = np.append(x, b + dx)\n",
        "            y = f(x)\n",
        "            n = len(x) - 1\n",
        "\n",
        "        integral = (dx / 3) * (y[0] + 4 * np.sum(y[1:-1:2]) + 2 * np.sum(y[2:-2:2]) + y[-1])\n",
        "\n",
        "    else:\n",
        "        raise ValueError(\"Метод должен быть 'rectangular', 'trapezoidal' или 'simpson'.\")\n",
        "\n",
        "    return integral\n",
        "def test10():\n",
        "    f1 = lambda x: (x**2 + 3) / (x - 2)\n",
        "    assert np.allclose(compute_integral(3, 4, f1, 0.001, method=\"rectangular\"), 10.352030263919616, rtol=0.01)\n",
        "    assert np.allclose(compute_integral(3, 4, f1, 0.001, method=\"trapezoidal\"), 10.352030263919616, rtol=0.01)\n",
        "    assert np.allclose(compute_integral(3, 4, f1, 0.001, method=\"simpson\"), 10.352030263919616, rtol=0.001)\n",
        "\n",
        "    f2 = lambda x: np.cos(x)**3\n",
        "    assert np.allclose(compute_integral(0, np.pi/2, f2, 0.001, method=\"rectangular\"), 2/3, rtol=0.01)\n",
        "    assert np.allclose(compute_integral(0, np.pi/2, f2, 0.001, method=\"trapezoidal\"), 2/3, rtol=0.01)\n",
        "    assert np.allclose(compute_integral(0, np.pi/2, f2, 0.001, method=\"simpson\"), 2/3, rtol=0.001)\n",
        "test10()\n",
        "print(\"Все тесты пройдены успешно!\")"
      ],
      "metadata": {
        "colab": {
          "base_uri": "https://localhost:8080/"
        },
        "id": "AshU0HLQ_NpL",
        "outputId": "c2b457cf-ed12-4b52-ee6b-edc283124a40"
      },
      "execution_count": null,
      "outputs": [
        {
          "output_type": "stream",
          "name": "stdout",
          "text": [
            "Все тесты пройдены успешно!\n"
          ]
        }
      ]
    }
  ]
}
